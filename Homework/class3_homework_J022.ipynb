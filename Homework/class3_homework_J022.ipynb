{
  "nbformat": 4,
  "nbformat_minor": 0,
  "metadata": {
    "colab": {
      "name": "class3_homework_J022.ipynb",
      "provenance": [],
      "collapsed_sections": []
    },
    "kernelspec": {
      "name": "python3",
      "display_name": "Python 3"
    }
  },
  "cells": [
    {
      "cell_type": "code",
      "metadata": {
        "id": "KEHkVN70i2BF",
        "colab_type": "code",
        "colab": {}
      },
      "source": [
        "import pandas as pd\n",
        "import spacy\n",
        "from spacy.tokenizer import Tokenizer"
      ],
      "execution_count": 0,
      "outputs": []
    },
    {
      "cell_type": "code",
      "metadata": {
        "id": "rMYuBoc1l7GW",
        "colab_type": "code",
        "colab": {}
      },
      "source": [
        "sp = spacy.load('en')"
      ],
      "execution_count": 0,
      "outputs": []
    },
    {
      "cell_type": "code",
      "metadata": {
        "id": "eiisv-iIjOma",
        "colab_type": "code",
        "colab": {}
      },
      "source": [
        "data = pd.read_json(\"http://snap.stanford.edu/data/amazon/productGraph/categoryFiles/reviews_Office_Products_5.json.gz\", lines=True)"
      ],
      "execution_count": 0,
      "outputs": []
    },
    {
      "cell_type": "code",
      "metadata": {
        "id": "Cq3NnC0-jSYK",
        "colab_type": "code",
        "colab": {}
      },
      "source": [
        "review = pd.DataFrame(data['reviewText'])\n",
        "review = review.iloc[0:50,:]"
      ],
      "execution_count": 0,
      "outputs": []
    },
    {
      "cell_type": "code",
      "metadata": {
        "id": "8QZLD_TIAoC2",
        "colab_type": "code",
        "outputId": "50d9acd3-702f-49ba-d978-18f0ff9269b2",
        "colab": {
          "base_uri": "https://localhost:8080/",
          "height": 34
        }
      },
      "source": [
        "review.shape"
      ],
      "execution_count": 60,
      "outputs": [
        {
          "output_type": "execute_result",
          "data": {
            "text/plain": [
              "(50, 1)"
            ]
          },
          "metadata": {
            "tags": []
          },
          "execution_count": 60
        }
      ]
    },
    {
      "cell_type": "code",
      "metadata": {
        "id": "Ze4JQmT6yc5v",
        "colab_type": "code",
        "colab": {}
      },
      "source": [
        "def spacylib(stri):\n",
        "  string = sp(stri)\n",
        "  token = []\n",
        "  lemma = []\n",
        "  pos = []\n",
        "  dep = []\n",
        "  noun = []\n",
        "  for s in string:\n",
        "    token.append(s.text)\n",
        "    lemma.append(s.lemma_)\n",
        "    pos.append(s.pos_)\n",
        "    dep.append(s.dep_)\n",
        "    i = list(zip(token,pos))\n",
        "    for n in i:\n",
        "      if n[1]=='NOUN':\n",
        "        noun.append(n[0])\n",
        "  dic = {'token':token, 'lemma':lemma, 'pos':pos, 'dependency':dep, 'noun':noun}\n",
        "  return dic"
      ],
      "execution_count": 0,
      "outputs": []
    },
    {
      "cell_type": "code",
      "metadata": {
        "id": "zHjj0wpF58Go",
        "colab_type": "code",
        "colab": {}
      },
      "source": [
        "review['Spacy'] = review['reviewText'].apply(spacylib)"
      ],
      "execution_count": 0,
      "outputs": []
    },
    {
      "cell_type": "code",
      "metadata": {
        "id": "TwvjXWXaCBI0",
        "colab_type": "code",
        "colab": {
          "base_uri": "https://localhost:8080/",
          "height": 111
        },
        "outputId": "d16fae28-b596-4a05-e93e-57c1bf1e3066"
      },
      "source": [
        "review.head(2)"
      ],
      "execution_count": 63,
      "outputs": [
        {
          "output_type": "execute_result",
          "data": {
            "text/html": [
              "<div>\n",
              "<style scoped>\n",
              "    .dataframe tbody tr th:only-of-type {\n",
              "        vertical-align: middle;\n",
              "    }\n",
              "\n",
              "    .dataframe tbody tr th {\n",
              "        vertical-align: top;\n",
              "    }\n",
              "\n",
              "    .dataframe thead th {\n",
              "        text-align: right;\n",
              "    }\n",
              "</style>\n",
              "<table border=\"1\" class=\"dataframe\">\n",
              "  <thead>\n",
              "    <tr style=\"text-align: right;\">\n",
              "      <th></th>\n",
              "      <th>reviewText</th>\n",
              "      <th>Spacy</th>\n",
              "    </tr>\n",
              "  </thead>\n",
              "  <tbody>\n",
              "    <tr>\n",
              "      <th>0</th>\n",
              "      <td>I bought my first HP12C in about 1984 or so, a...</td>\n",
              "      <td>{'token': ['I', 'bought', 'my', 'first', 'HP12...</td>\n",
              "    </tr>\n",
              "    <tr>\n",
              "      <th>1</th>\n",
              "      <td>WHY THIS BELATED REVIEW? I feel very obliged t...</td>\n",
              "      <td>{'token': ['WHY', 'THIS', 'BELATED', 'REVIEW',...</td>\n",
              "    </tr>\n",
              "  </tbody>\n",
              "</table>\n",
              "</div>"
            ],
            "text/plain": [
              "                                          reviewText                                              Spacy\n",
              "0  I bought my first HP12C in about 1984 or so, a...  {'token': ['I', 'bought', 'my', 'first', 'HP12...\n",
              "1  WHY THIS BELATED REVIEW? I feel very obliged t...  {'token': ['WHY', 'THIS', 'BELATED', 'REVIEW',..."
            ]
          },
          "metadata": {
            "tags": []
          },
          "execution_count": 63
        }
      ]
    }
  ]
}