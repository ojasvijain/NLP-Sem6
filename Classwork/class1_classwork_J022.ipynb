{
  "nbformat": 4,
  "nbformat_minor": 0,
  "metadata": {
    "colab": {
      "name": "class1 classwork J022.ipynb",
      "provenance": []
    },
    "kernelspec": {
      "name": "python3",
      "display_name": "Python 3"
    }
  },
  "cells": [
    {
      "cell_type": "code",
      "metadata": {
        "id": "7k8RVPf98QRo",
        "colab_type": "code",
        "colab": {}
      },
      "source": [
        "def nthprime(n):\n",
        "  prime = [2]\n",
        "  num = 3\n",
        "  while len(prime) <= n:\n",
        "    for i in prime:\n",
        "      if num%i == 0:\n",
        "        break\n",
        "    else:\n",
        "      prime.append(num)\n",
        "    num += 2\n",
        "  return prime[-1]"
      ],
      "execution_count": 0,
      "outputs": []
    },
    {
      "cell_type": "code",
      "metadata": {
        "id": "imkaUqdg99Hi",
        "colab_type": "code",
        "outputId": "a72c6e6f-321e-4b1d-f9b0-e40a1f9a6291",
        "colab": {
          "base_uri": "https://localhost:8080/",
          "height": 35
        }
      },
      "source": [
        "nthprime(7)"
      ],
      "execution_count": 0,
      "outputs": [
        {
          "output_type": "execute_result",
          "data": {
            "text/plain": [
              "19"
            ]
          },
          "metadata": {
            "tags": []
          },
          "execution_count": 15
        }
      ]
    }
  ]
}